{
 "cells": [
  {
   "cell_type": "markdown",
   "metadata": {},
   "source": [
    "Python | hash() method\n",
    "In the new era of digital technology, Machine Learning, Artificial Intelligence and Cyber Security are a rising phenomenon. Python stands out as a language to implement much of the good sects of this.\n",
    "\n",
    "Python offers hash() method to encode the data into unrecognisable value."
   ]
  },
  {
   "cell_type": "code",
   "execution_count": 1,
   "metadata": {},
   "outputs": [
    {
     "name": "stdout",
     "output_type": "stream",
     "text": [
      "The integer hash value is : 4\n",
      "The string hash value is : 6368184012013443119\n",
      "The float hash value is : 1291272085159665688\n"
     ]
    }
   ],
   "source": [
    "# Python 3 code to demonstrate  \n",
    "# working of hash() \n",
    "  \n",
    "# initializing objects \n",
    "int_val = 4\n",
    "str_val = 'GeeksforGeeks'\n",
    "flt_val = 24.56\n",
    "  \n",
    "# Printing the hash values. \n",
    "# Notice Integer value doesn't change \n",
    "# You'l have answer later in article. \n",
    "print (\"The integer hash value is : \" + str(hash(int_val))) \n",
    "print (\"The string hash value is : \" + str(hash(str_val))) \n",
    "print (\"The float hash value is : \" + str(hash(flt_val))) \n"
   ]
  },
  {
   "cell_type": "code",
   "execution_count": 2,
   "metadata": {},
   "outputs": [
    {
     "name": "stdout",
     "output_type": "stream",
     "text": [
      "The tuple hash value is : 8315274433719620810\n"
     ]
    },
    {
     "ename": "TypeError",
     "evalue": "unhashable type: 'list'",
     "output_type": "error",
     "traceback": [
      "\u001b[1;31m---------------------------------------------------------------------------\u001b[0m",
      "\u001b[1;31mTypeError\u001b[0m                                 Traceback (most recent call last)",
      "\u001b[1;32m<ipython-input-2-6cefd6191f50>\u001b[0m in \u001b[0;36m<module>\u001b[1;34m()\u001b[0m\n\u001b[0;32m     13\u001b[0m \u001b[1;31m# to convert mutable object\u001b[0m\u001b[1;33m\u001b[0m\u001b[1;33m\u001b[0m\u001b[0m\n\u001b[0;32m     14\u001b[0m \u001b[0mprint\u001b[0m \u001b[1;33m(\u001b[0m\u001b[1;34m\"The tuple hash value is : \"\u001b[0m \u001b[1;33m+\u001b[0m \u001b[0mstr\u001b[0m\u001b[1;33m(\u001b[0m\u001b[0mhash\u001b[0m\u001b[1;33m(\u001b[0m\u001b[0mtuple_val\u001b[0m\u001b[1;33m)\u001b[0m\u001b[1;33m)\u001b[0m\u001b[1;33m)\u001b[0m\u001b[1;33m\u001b[0m\u001b[0m\n\u001b[1;32m---> 15\u001b[1;33m \u001b[0mprint\u001b[0m \u001b[1;33m(\u001b[0m\u001b[1;34m\"The list hash value is : \"\u001b[0m \u001b[1;33m+\u001b[0m \u001b[0mstr\u001b[0m\u001b[1;33m(\u001b[0m\u001b[0mhash\u001b[0m\u001b[1;33m(\u001b[0m\u001b[0mlist_val\u001b[0m\u001b[1;33m)\u001b[0m\u001b[1;33m)\u001b[0m\u001b[1;33m)\u001b[0m\u001b[1;33m\u001b[0m\u001b[0m\n\u001b[0m",
      "\u001b[1;31mTypeError\u001b[0m: unhashable type: 'list'"
     ]
    }
   ],
   "source": [
    "# Python 3 code to demonstrate  \n",
    "# property of hash() \n",
    "  \n",
    "# initializing objects \n",
    "# tuple are immutable \n",
    "tuple_val = (1, 2, 3, 4, 5) \n",
    "  \n",
    "# list are mutable \n",
    "list_val = [1, 2, 3, 4, 5] \n",
    "  \n",
    "# Printing the hash values. \n",
    "# Notice exception when trying \n",
    "# to convert mutable object \n",
    "print (\"The tuple hash value is : \" + str(hash(tuple_val))) \n",
    "print (\"The list hash value is : \" + str(hash(list_val))) \n"
   ]
  },
  {
   "cell_type": "code",
   "execution_count": null,
   "metadata": {},
   "outputs": [],
   "source": []
  }
 ],
 "metadata": {
  "kernelspec": {
   "display_name": "Python 3",
   "language": "python",
   "name": "python3"
  },
  "language_info": {
   "codemirror_mode": {
    "name": "ipython",
    "version": 3
   },
   "file_extension": ".py",
   "mimetype": "text/x-python",
   "name": "python",
   "nbconvert_exporter": "python",
   "pygments_lexer": "ipython3",
   "version": "3.6.4"
  }
 },
 "nbformat": 4,
 "nbformat_minor": 2
}
