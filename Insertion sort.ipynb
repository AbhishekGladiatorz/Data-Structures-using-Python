{
 "cells": [
  {
   "cell_type": "markdown",
   "metadata": {},
   "source": [
    "Insertion Sort\n",
    "Insertion sort is a simple sorting algorithm that works the way we sort playing cards in our hands.\n",
    "Algorithm\n",
    "// Sort an arr[] of size n\n",
    "insertionSort(arr, n)\n",
    "Loop from i = 1 to n-1.\n",
    "…"
   ]
  },
  {
   "cell_type": "code",
   "execution_count": 1,
   "metadata": {},
   "outputs": [
    {
     "name": "stdout",
     "output_type": "stream",
     "text": [
      " 5\n",
      " 6\n",
      " 11\n",
      " 12\n",
      " 13\n"
     ]
    }
   ],
   "source": [
    "# Python program for implementation of Insertion Sort \n",
    "  \n",
    "# Function to do insertion sort \n",
    "def insertionSort(arr): \n",
    "  \n",
    "    # Traverse through 1 to len(arr) \n",
    "    for i in range(1, len(arr)): \n",
    "  \n",
    "        key = arr[i] \n",
    "  \n",
    "        # Move elements of arr[0..i-1], that are \n",
    "        # greater than key, to one position ahead \n",
    "        # of their current position \n",
    "        j = i-1\n",
    "        while j >= 0 and key < arr[j] : \n",
    "                arr[j + 1] = arr[j] \n",
    "                j -= 1\n",
    "        arr[j + 1] = key \n",
    "  \n",
    "  \n",
    "# Driver code to test above \n",
    "arr = [12, 11, 13, 5, 6] \n",
    "insertionSort(arr) \n",
    "for i in range(len(arr)): \n",
    "    print (\"% d\" % arr[i]) "
   ]
  },
  {
   "cell_type": "markdown",
   "metadata": {},
   "source": [
    "How to implement it recursively?\n",
    "Recursive Insertion Sort has no performance/implementation advantages, but can be a good question to check one’s understanding of Insertion Sort and recursion.\n",
    "\n",
    "If we take a closer look at Insertion Sort algorithm, we keep processed elements sorted and insert new elements one by one in the inserted array.\n",
    "\n",
    "Recursion Idea.\n",
    "\n",
    "Base Case: If array size is 1 or smaller, return.\n",
    "Recursively sort first n-1 elements.\n",
    "Insert last element at its correct position in sorted array.\n",
    "Below is implementation of above idea."
   ]
  },
  {
   "cell_type": "code",
   "execution_count": 3,
   "metadata": {},
   "outputs": [
    {
     "name": "stdout",
     "output_type": "stream",
     "text": [
      "5\n",
      "6\n",
      "11\n",
      "12\n",
      "13\n"
     ]
    }
   ],
   "source": [
    "# Recursive Python program for insertion sort \n",
    "# Recursive function to sort an array using insertion sort \n",
    "  \n",
    "def insertionSortRecursive(arr,n): \n",
    "    # base case \n",
    "    if n<=1: \n",
    "        return\n",
    "      \n",
    "    # Sort first n-1 elements \n",
    "    insertionSortRecursive(arr,n-1) \n",
    "    '''Insert last element at its correct position \n",
    "        in sorted array.'''\n",
    "    last = arr[n-1] \n",
    "    j = n-2\n",
    "      \n",
    "      # Move elements of arr[0..i-1], that are \n",
    "      # greater than key, to one position ahead \n",
    "      # of their current position  \n",
    "    while (j>=0 and arr[j]>last): \n",
    "        arr[j+1] = arr[j] \n",
    "        j = j-1\n",
    "  \n",
    "    arr[j+1]=last \n",
    "      \n",
    "# A utility function to print an array of size n \n",
    "def printArray(arr,n): \n",
    "    for i in range(n): \n",
    "        print (arr[i],) \n",
    "  \n",
    "# Driver program to test insertion sort  \n",
    "arr = [12,11,13,5,6] \n",
    "n = len(arr) \n",
    "insertionSortRecursive(arr, n) \n",
    "printArray(arr, n) "
   ]
  },
  {
   "cell_type": "code",
   "execution_count": null,
   "metadata": {},
   "outputs": [],
   "source": []
  }
 ],
 "metadata": {
  "kernelspec": {
   "display_name": "Python 3",
   "language": "python",
   "name": "python3"
  },
  "language_info": {
   "codemirror_mode": {
    "name": "ipython",
    "version": 3
   },
   "file_extension": ".py",
   "mimetype": "text/x-python",
   "name": "python",
   "nbconvert_exporter": "python",
   "pygments_lexer": "ipython3",
   "version": "3.6.4"
  }
 },
 "nbformat": 4,
 "nbformat_minor": 2
}
