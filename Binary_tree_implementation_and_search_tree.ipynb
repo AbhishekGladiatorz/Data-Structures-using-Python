{
 "cells": [
  {
   "cell_type": "markdown",
   "metadata": {},
   "source": [
    "Trees: Unlike Arrays, Linked Lists, Stack and queues, which are linear data structures, trees are hierarchical data structures.\n",
    "Tree Vocabulary: The topmost node is called root of the tree. The elements that are directly under an element are called its children. The element directly above something is called its parent. For example, ‘a’ is a child of ‘f’, and ‘f’ is the parent of ‘a’. Finally, elements with no children are called leaves."
   ]
  },
  {
   "cell_type": "markdown",
   "metadata": {},
   "source": [
    "Why Trees?\n",
    "1. One reason to use trees might be because you want to store information that naturally forms a hierarchy. For example, the file system on a computer:"
   ]
  },
  {
   "cell_type": "markdown",
   "metadata": {},
   "source": [
    "2. Trees (with some ordering e.g., BST) provide moderate access/search (quicker than Linked List and slower than arrays).\n",
    "3. Trees provide moderate insertion/deletion (quicker than Arrays and slower than Unordered Linked Lists).\n",
    "4. Like Linked Lists and unlike Arrays, Trees don’t have an upper limit on number of nodes as nodes are linked using pointers.\n",
    "\n",
    "Main applications of trees include:\n",
    "1. Manipulate hierarchical data.\n",
    "2. Make information easy to search (see tree traversal).\n",
    "3. Manipulate sorted lists of data.\n",
    "4. As a workflow for compositing digital images for visual effects.\n",
    "5. Router algorithms\n",
    "6. Form of a multi-stage decision-making (see business chess).\n",
    "\n",
    "Binary Tree: A tree whose elements have at most 2 children is called a binary tree. Since each element in a binary tree can have only 2 children, we typically name them the left and right child.\n",
    "\n",
    "Binary Tree Representation in C: A tree is represented by a pointer to the topmost node in tree. If the tree is empty, then value of root is NULL.\n",
    "A Tree node contains following parts.\n",
    "1. Data\n",
    "2. Pointer to left child\n",
    "3. Pointer to right child\n",
    "\n",
    "In C, we can represent a tree node using structures. Below is an example of a tree node with an integer data."
   ]
  },
  {
   "cell_type": "code",
   "execution_count": 1,
   "metadata": {},
   "outputs": [],
   "source": [
    "\n",
    "# A Python class that represents an individual node  \n",
    "# in a Binary Tree \n",
    "class Node: \n",
    "    def __init__(self,key): \n",
    "        self.left = None\n",
    "        self.right = None\n",
    "        self.val = key "
   ]
  },
  {
   "cell_type": "code",
   "execution_count": 2,
   "metadata": {},
   "outputs": [
    {
     "data": {
      "text/plain": [
       "'4 becomes left child of 2 \\n           1 \\n       /       \\\\ \\n      2          3 \\n    /   \\\\       /  \\\\ \\n   4    None  None  None \\n  /  \\\\ \\nNone None'"
      ]
     },
     "execution_count": 2,
     "metadata": {},
     "output_type": "execute_result"
    }
   ],
   "source": [
    "# Python program to introduce Binary Tree \n",
    "  \n",
    "# A class that represents an individual node in a \n",
    "# Binary Tree \n",
    "class Node: \n",
    "    def __init__(self,key): \n",
    "        self.left = None\n",
    "        self.right = None\n",
    "        self.val = key \n",
    "  \n",
    "  \n",
    "# create root \n",
    "root = Node(1) \n",
    "''' following is the tree after above statement \n",
    "        1 \n",
    "      /   \\ \n",
    "     None  None'''\n",
    "  \n",
    "root.left      = Node(2); \n",
    "root.right     = Node(3); \n",
    "    \n",
    "''' 2 and 3 become left and right children of 1 \n",
    "           1 \n",
    "         /   \\ \n",
    "        2      3 \n",
    "     /    \\    /  \\ \n",
    "   None None None None'''\n",
    "  \n",
    "  \n",
    "root.left.left  = Node(4); \n",
    "'''4 becomes left child of 2 \n",
    "           1 \n",
    "       /       \\ \n",
    "      2          3 \n",
    "    /   \\       /  \\ \n",
    "   4    None  None  None \n",
    "  /  \\ \n",
    "None None'''"
   ]
  },
  {
   "cell_type": "markdown",
   "metadata": {},
   "source": [
    "Search for a value in a B-tree\n",
    "Searching for a value in a tree involves comparing the incoming value with the value exiting nodes. Here also we traverse the nodes from left to right and then finally with the parent. If the searched for value does not match any of the exitign value, then we return not found message else the found message is returned."
   ]
  },
  {
   "cell_type": "code",
   "execution_count": 3,
   "metadata": {},
   "outputs": [],
   "source": [
    "class Node:\n",
    "\n",
    "    def __init__(self, data):\n",
    "\n",
    "        self.left = None\n",
    "        self.right = None\n",
    "        self.data = data\n",
    "\n",
    "# Insert method to create nodes\n",
    "    def insert(self, data):\n",
    "\n",
    "        if self.data:\n",
    "            if data < self.data:\n",
    "                if self.left is None:\n",
    "                    self.left = Node(data)\n",
    "                else:\n",
    "                    self.left.insert(data)\n",
    "            elif data > self.data:\n",
    "                if self.right is None:\n",
    "                    self.right = Node(data)\n",
    "                else:\n",
    "                    self.right.insert(data)\n",
    "        else:\n",
    "            self.data = data\n",
    "# findval method to compare the value with nodes\n",
    "    def findval(self, lkpval):\n",
    "        if lkpval < self.data:\n",
    "            if self.left is None:\n",
    "                return str(lkpval)+\" Not Found\"\n",
    "            return self.left.findval(lkpval)\n",
    "        elif lkpval > self.data:\n",
    "            if self.right is None:\n",
    "                return str(lkpval)+\" Not Found\"\n",
    "            return self.right.findval(lkpval)\n",
    "        else:\n",
    "            print(str(self.data) + ' is found')\n",
    "# Print the tree\n",
    "    def PrintTree(self):\n",
    "        if self.left:\n",
    "            self.left.PrintTree()\n",
    "        print( self.data),\n",
    "        if self.right:\n",
    "            self.right.PrintTree()\n",
    "\n",
    "\n"
   ]
  },
  {
   "cell_type": "code",
   "execution_count": 4,
   "metadata": {},
   "outputs": [
    {
     "name": "stdout",
     "output_type": "stream",
     "text": [
      "7 Not Found\n",
      "14 is found\n",
      "None\n"
     ]
    }
   ],
   "source": [
    "root = Node(12)\n",
    "root.insert(6)\n",
    "root.insert(14)\n",
    "root.insert(3)\n",
    "print(root.findval(7))\n",
    "print(root.findval(14))"
   ]
  },
  {
   "cell_type": "code",
   "execution_count": null,
   "metadata": {},
   "outputs": [],
   "source": []
  }
 ],
 "metadata": {
  "kernelspec": {
   "display_name": "Python 3",
   "language": "python",
   "name": "python3"
  },
  "language_info": {
   "codemirror_mode": {
    "name": "ipython",
    "version": 3
   },
   "file_extension": ".py",
   "mimetype": "text/x-python",
   "name": "python",
   "nbconvert_exporter": "python",
   "pygments_lexer": "ipython3",
   "version": "3.6.4"
  }
 },
 "nbformat": 4,
 "nbformat_minor": 2
}
