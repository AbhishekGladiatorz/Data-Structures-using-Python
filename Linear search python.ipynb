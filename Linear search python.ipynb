{
 "cells": [
  {
   "cell_type": "markdown",
   "metadata": {},
   "source": [
    "Python | Linear search on list or tuples\n",
    "Let’s see a basic linear search operation on Python list and tuples.\n",
    "\n",
    "A simple approach is to do linear search, i.e\n",
    "\n",
    "Start from the leftmost element of list and one by one compare x with each element of the list.\n",
    "If x matches with an element, return True.\n",
    "If x doesn’t match with any of elements, return False.\n"
   ]
  },
  {
   "cell_type": "code",
   "execution_count": 1,
   "metadata": {},
   "outputs": [
    {
     "name": "stdout",
     "output_type": "stream",
     "text": [
      "Found\n"
     ]
    }
   ],
   "source": [
    "# Search function with parameter list name \n",
    "# and the value to be searched \n",
    "def search(list,n): \n",
    "  \n",
    "    for i in range(len(list)): \n",
    "        if list[i] == n: \n",
    "            return True\n",
    "    return False\n",
    "  \n",
    "# list which contains both string and numbers. \n",
    "list = [1, 2, 'sachin', 4,'Geeks', 6] \n",
    "  \n",
    "# Driver Code \n",
    "n = 'Geeks'\n",
    "  \n",
    "if search(list, n): \n",
    "    print(\"Found\") \n",
    "else: \n",
    "    print(\"Not Found\") "
   ]
  },
  {
   "cell_type": "code",
   "execution_count": null,
   "metadata": {},
   "outputs": [],
   "source": []
  },
  {
   "cell_type": "code",
   "execution_count": 2,
   "metadata": {},
   "outputs": [
    {
     "name": "stdout",
     "output_type": "stream",
     "text": [
      "Not Found\n"
     ]
    }
   ],
   "source": [
    "# Search function with parameter list name \n",
    "# and the value to be searched \n",
    "def search(list,n): \n",
    "  \n",
    "    for i in range(len(list)): \n",
    "        if list[i] == n: \n",
    "            return True\n",
    "    return False\n",
    "  \n",
    "# list which contains both string and numbers. \n",
    "list = [1, 2, 'sachin', 4,'Geeks', 6] \n",
    "  \n",
    "# Driver Code \n",
    "n = 'darkmen'\n",
    "  \n",
    "if search(list, n): \n",
    "    print(\"Found\") \n",
    "else: \n",
    "    print(\"Not Found\") "
   ]
  },
  {
   "cell_type": "code",
   "execution_count": null,
   "metadata": {},
   "outputs": [],
   "source": []
  }
 ],
 "metadata": {
  "kernelspec": {
   "display_name": "Python 3",
   "language": "python",
   "name": "python3"
  },
  "language_info": {
   "codemirror_mode": {
    "name": "ipython",
    "version": 3
   },
   "file_extension": ".py",
   "mimetype": "text/x-python",
   "name": "python",
   "nbconvert_exporter": "python",
   "pygments_lexer": "ipython3",
   "version": "3.6.4"
  }
 },
 "nbformat": 4,
 "nbformat_minor": 2
}
