{
 "cells": [
  {
   "cell_type": "markdown",
   "metadata": {},
   "source": [
    "We can see the creation of circular linked list and operations like insert and delete "
   ]
  },
  {
   "cell_type": "code",
   "execution_count": 1,
   "metadata": {},
   "outputs": [],
   "source": [
    "class Node:\n",
    "  def __init__(self, data):\n",
    "    self.data = data\n",
    "    self.next = None\n",
    "\n",
    "class CircularLinkedList:\n",
    "  def __init__(self, key):\n",
    "    z = Node(key)\n",
    "    z.next = z\n",
    "    self.last = z\n",
    "\n",
    "def insert_after(n, a):\n",
    "  n.next = a.next\n",
    "  a.next = n\n",
    "\n",
    "def insert_at_last(l, n):\n",
    "  n.next = l.last.next\n",
    "  l.last.next = n\n",
    "  l.last = n\n",
    "\n",
    "def delete(l, n):\n",
    "  temp = l.last\n",
    "  while temp.next != n:\n",
    "    temp = temp.next\n",
    "\n",
    "  if n == l.last: #last node\n",
    "    if n.next == n: #only one node\n",
    "      l.last = NULL\n",
    "    else: #more than one node and last node\n",
    "      temp.next = n.next\n",
    "      l.last = temp #updating last pointer\n",
    "  else: #not last node\n",
    "    temp.next = n.next\n",
    "  del n\n",
    "\n",
    "def traversal(l):\n",
    "  temp = l.last\n",
    "  a = str(temp.data)+\"\\t\"\n",
    "  temp = temp.next\n",
    "\n",
    "  while temp != l.last:\n",
    "    a = a + str(temp.data) + \"\\t\"\n",
    "    temp = temp.next\n",
    "  print(a)\n",
    "\n"
   ]
  },
  {
   "cell_type": "code",
   "execution_count": 2,
   "metadata": {},
   "outputs": [
    {
     "name": "stdout",
     "output_type": "stream",
     "text": [
      "10\t20\t30\t40\t\n",
      "100\t20\t25\t30\t40\t50\t10\t\n",
      "10\t20\t25\t40\t50\t\n"
     ]
    }
   ],
   "source": [
    "if __name__ == '__main__':\n",
    "  l = CircularLinkedList(10)\n",
    "\n",
    "  a = Node(20)\n",
    "  b = Node(30)\n",
    "  c = Node(40)\n",
    "\n",
    "  l.last.next = a\n",
    "  a.next = b\n",
    "  b.next = c\n",
    "  c.next = l.last\n",
    "\n",
    "  traversal(l)\n",
    "\n",
    "  z = Node(50)\n",
    "  insert_after(z, c)\n",
    "  z = Node(25)\n",
    "  insert_after(z, a)\n",
    "  z = Node(100)\n",
    "  insert_at_last(l, z)\n",
    "\n",
    "  traversal(l)\n",
    "\n",
    "  delete(l, l.last);\n",
    "  delete(l, b);\n",
    "\n",
    "  traversal(l);"
   ]
  },
  {
   "cell_type": "code",
   "execution_count": null,
   "metadata": {},
   "outputs": [],
   "source": []
  }
 ],
 "metadata": {
  "kernelspec": {
   "display_name": "Python 3",
   "language": "python",
   "name": "python3"
  },
  "language_info": {
   "codemirror_mode": {
    "name": "ipython",
    "version": 3
   },
   "file_extension": ".py",
   "mimetype": "text/x-python",
   "name": "python",
   "nbconvert_exporter": "python",
   "pygments_lexer": "ipython3",
   "version": "3.6.4"
  }
 },
 "nbformat": 4,
 "nbformat_minor": 2
}
